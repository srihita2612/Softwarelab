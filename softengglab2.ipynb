{
  "nbformat": 4,
  "nbformat_minor": 0,
  "metadata": {
    "colab": {
      "provenance": [],
      "authorship_tag": "ABX9TyP04HJPy53JZ+MsLLRHVewo",
      "include_colab_link": true
    },
    "kernelspec": {
      "name": "python3",
      "display_name": "Python 3"
    },
    "language_info": {
      "name": "python"
    }
  },
  "cells": [
    {
      "cell_type": "markdown",
      "metadata": {
        "id": "view-in-github",
        "colab_type": "text"
      },
      "source": [
        "<a href=\"https://colab.research.google.com/github/srihita2612/Softwarelab/blob/main/softengglab2.ipynb\" target=\"_parent\"><img src=\"https://colab.research.google.com/assets/colab-badge.svg\" alt=\"Open In Colab\"/></a>"
      ]
    },
    {
      "cell_type": "markdown",
      "source": [
        "2)variables _dynamic"
      ],
      "metadata": {
        "id": "qiSMyF2QOzod"
      }
    },
    {
      "cell_type": "code",
      "execution_count": null,
      "metadata": {
        "colab": {
          "base_uri": "https://localhost:8080/"
        },
        "id": "c4sKpCtTL9qy",
        "outputId": "8473510e-8a01-460a-dade-c1573c36584c"
      },
      "outputs": [
        {
          "output_type": "stream",
          "name": "stdout",
          "text": [
            "enter the temperature for case122\n",
            "enter the humidity for case112\n",
            "enter the wind for case125\n",
            "227.1\n",
            "Cloudy\n",
            "enter the temperature for case267\n",
            "enter the humidity for case240\n",
            "enter the wind for case232\n",
            "2224.7\n",
            "Sunny\n",
            "enter the temperature for case334\n",
            "enter the humidity for case38\n",
            "enter the wind for case36\n",
            "562.0\n",
            "Sunny\n",
            "enter the temperature for case43\n",
            "enter the humidity for case478\n",
            "enter the wind for case4120\n",
            "-14.100000000000001\n",
            "Stormy\n"
          ]
        }
      ],
      "source": [
        "def weather_prediction(T,H,w):\n",
        "  W=(0.5*(T**2))-(0.2*H)+(0.1*w)-15\n",
        "  print(W)\n",
        "  if W>300:\n",
        "      print(\"Sunny\")\n",
        "  elif 200<W<=300:\n",
        "      print(\"Cloudy\")\n",
        "  elif 100<W<=200:\n",
        "      print(\"Rainy\")\n",
        "  elif W<=100:\n",
        "      print(\"Stormy\")\n",
        "T1=int(input(\"enter the temperature for case1\"))\n",
        "H1=int(input(\"enter the humidity for case1\"))\n",
        "w1=int(input(\"enter the wind for case1\"))\n",
        "weather_prediction(T1,H1,w1)\n",
        "T2=int(input(\"enter the temperature for case2\"))\n",
        "H2=int(input(\"enter the humidity for case2\"))\n",
        "w2=int(input(\"enter the wind for case2\"))\n",
        "weather_prediction(T2,H2,w2)\n",
        "T3=int(input(\"enter the temperature for case3\"))\n",
        "H3=int(input(\"enter the humidity for case3\"))\n",
        "w3=int(input(\"enter the wind for case3\"))\n",
        "weather_prediction(T3,H3,w3)\n",
        "T4=int(input(\"enter the temperature for case4\"))\n",
        "H4=int(input(\"enter the humidity for case4\"))\n",
        "w4=int(input(\"enter the wind for case4\"))\n",
        "weather_prediction(T4,H4,w4)\n"
      ]
    },
    {
      "cell_type": "markdown",
      "source": [
        "3) user gives multiple inputs(for loop)"
      ],
      "metadata": {
        "id": "15YbFY8dO6E1"
      }
    },
    {
      "cell_type": "code",
      "source": [
        "def weather_prediction(T,H,w):\n",
        "  W=(0.5*(T**2))-(0.2*H)+(0.1*w)-15\n",
        "  print(W)\n",
        "  if W>300:\n",
        "      print(\"Sunny\")\n",
        "  elif 200<W<=300:\n",
        "      print(\"Cloudy\")\n",
        "  elif 100<W<=200:\n",
        "      print(\"Rainy\")\n",
        "  elif W<=100:\n",
        "      print(\"Stormy\")\n",
        "N=int(input(\"enter the number of test cases:\"))\n",
        "for i in range(N):\n",
        "  T=int(input(\"enter the temperature:\"))\n",
        "  H=int(input(\"enter the humidity:\"))\n",
        "  w=int(input(\"enter the wind:\"))\n",
        "  weather_prediction(T,H,w)\n"
      ],
      "metadata": {
        "colab": {
          "base_uri": "https://localhost:8080/"
        },
        "id": "ANADyC0DOyrl",
        "outputId": "eebcb33f-a9c3-4532-b0b1-3c5f93fb04bc"
      },
      "execution_count": null,
      "outputs": [
        {
          "output_type": "stream",
          "name": "stdout",
          "text": [
            "enter the number of test cases:4\n",
            "enter the temperature:23\n",
            "enter the humidity:6\n",
            "enter the wind:78\n",
            "256.1\n",
            "Cloudy\n",
            "enter the temperature:12\n",
            "enter the humidity:3\n",
            "enter the wind:47\n",
            "61.10000000000001\n",
            "Stormy\n",
            "enter the temperature:23\n",
            "enter the humidity:67\n",
            "enter the wind:90\n",
            "245.10000000000002\n",
            "Cloudy\n",
            "enter the temperature:2\n",
            "enter the humidity:56\n",
            "enter the wind:79\n",
            "-16.3\n",
            "Stormy\n"
          ]
        }
      ]
    },
    {
      "cell_type": "markdown",
      "source": [
        "4) Reading from file(input)"
      ],
      "metadata": {
        "id": "80kpSfkzQXb2"
      }
    },
    {
      "cell_type": "code",
      "source": [
        "file=open(\"weather.txt\",\"r\")\n",
        "w=file.read()\n",
        "print(w)"
      ],
      "metadata": {
        "colab": {
          "base_uri": "https://localhost:8080/"
        },
        "id": "eOrHx0fGQbhu",
        "outputId": "c70c83e4-24d8-4d61-e1a1-e258f8f058cf"
      },
      "execution_count": null,
      "outputs": [
        {
          "output_type": "stream",
          "name": "stdout",
          "text": [
            "def weather_prediction(T,H,w):\n",
            "  W=(0.5*(T**2))-(0.2*H)+(0.1*w)-15\n",
            "  print(W)\n",
            "  if W>300:\n",
            "      print(\"Sunny\")\n",
            "  elif 200<W<=300:\n",
            "      print(\"Cloudy\")\n",
            "  elif 100<W<=200:\n",
            "      print(\"Rainy\")\n",
            "  elif W<=100:\n",
            "      print(\"Stormy\")\n",
            "N=int(input(\"enter the number of test cases:\"))\n",
            "for i in range(N):\n",
            "  T=int(input(\"enter the temperature:\"))\n",
            "  H=int(input(\"enter the humidity:\"))\n",
            "  w=int(input(\"enter the wind:\"))\n",
            "  weather_prediction(T,H,w)\n",
            "\n"
          ]
        }
      ]
    }
  ]
}